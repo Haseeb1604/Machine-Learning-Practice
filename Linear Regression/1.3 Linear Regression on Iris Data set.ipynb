{
 "cells": [
  {
   "cell_type": "code",
   "execution_count": 35,
   "id": "04ded40e",
   "metadata": {},
   "outputs": [],
   "source": [
    "import math\n",
    "def mean(*args):\n",
    "    return sum(args)/len(args)\n",
    "def median(*args):\n",
    "    if len(args)%2==0:\n",
    "        i = round((len(args)+1)/2)\n",
    "        j = i-1\n",
    "        return (args[i] + args[j])/2\n",
    "    else:\n",
    "        k = round(len(args)/2)\n",
    "        return args[k]\n",
    "    \n",
    "def mode(*args):\n",
    "    dict_vals = {i: args.count(i) for i in args}\n",
    "    max_list = [k for k, v in dict_vals.items() if v == max(dict_vals.values())]\n",
    "    return max_list"
   ]
  },
  {
   "cell_type": "code",
   "execution_count": 38,
   "id": "ccc47c6c",
   "metadata": {},
   "outputs": [
    {
     "data": {
      "text/plain": [
       "[2, 4]"
      ]
     },
     "execution_count": 38,
     "metadata": {},
     "output_type": "execute_result"
    }
   ],
   "source": [
    "mode(2,4,2,8,4,14,16, 18, 20)"
   ]
  },
  {
   "cell_type": "code",
   "execution_count": null,
   "id": "b7b56ede",
   "metadata": {},
   "outputs": [],
   "source": []
  }
 ],
 "metadata": {
  "kernelspec": {
   "display_name": "Python 3",
   "language": "python",
   "name": "python3"
  },
  "language_info": {
   "codemirror_mode": {
    "name": "ipython",
    "version": 3
   },
   "file_extension": ".py",
   "mimetype": "text/x-python",
   "name": "python",
   "nbconvert_exporter": "python",
   "pygments_lexer": "ipython3",
   "version": "3.8.8"
  },
  "varInspector": {
   "cols": {
    "lenName": 16,
    "lenType": 16,
    "lenVar": 40
   },
   "kernels_config": {
    "python": {
     "delete_cmd_postfix": "",
     "delete_cmd_prefix": "del ",
     "library": "var_list.py",
     "varRefreshCmd": "print(var_dic_list())"
    },
    "r": {
     "delete_cmd_postfix": ") ",
     "delete_cmd_prefix": "rm(",
     "library": "var_list.r",
     "varRefreshCmd": "cat(var_dic_list()) "
    }
   },
   "types_to_exclude": [
    "module",
    "function",
    "builtin_function_or_method",
    "instance",
    "_Feature"
   ],
   "window_display": false
  }
 },
 "nbformat": 4,
 "nbformat_minor": 5
}
