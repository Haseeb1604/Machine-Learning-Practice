{
 "cells": [
  {
   "cell_type": "code",
   "execution_count": 59,
   "id": "bdf0be4d",
   "metadata": {},
   "outputs": [],
   "source": [
    "import numpy as np\n",
    "import pandas as pd\n",
    "import matplotlib.pyplot as plt\n",
    "from sklearn import linear_model\n",
    "from sklearn.model_selection import train_test_split\n",
    "from sklearn import datasets"
   ]
  },
  {
   "cell_type": "code",
   "execution_count": 175,
   "id": "17f32621",
   "metadata": {},
   "outputs": [],
   "source": [
    "data = [[1200, 380000], [1500, 430000], [2000, 485000],\n",
    "        [2200, 495000], [2600, 550000], [3000, 565000],\n",
    "        [3200, 610000], [3600, 680000], [4000, 725000],\n",
    "        [4200, 740000], [4400, 770000], [4800, 810000],\n",
    "        [5000, 850000], [5200, 880000], [5400, 915000],\n",
    "        [5500, 920000], [5600, 930000], [5740, 940200],\n",
    "        [6000, 960000], [6200, 980000], [6400, 999500]]\n",
    "\n",
    "df = pd.DataFrame(data, columns=['area', 'price'])\n",
    "\n",
    "x = df[['area']]\n",
    "y = df.price\n",
    "\n",
    "X_train, x_test, y_train, y_test = train_test_split(\n",
    "    df[['area']], df.price)"
   ]
  },
  {
   "cell_type": "code",
   "execution_count": 176,
   "id": "0b26e9f4",
   "metadata": {},
   "outputs": [
    {
     "data": {
      "text/plain": [
       "<matplotlib.collections.PathCollection at 0x1688424c040>"
      ]
     },
     "execution_count": 176,
     "metadata": {},
     "output_type": "execute_result"
    },
    {
     "data": {
      "image/png": "[encoded data removed]",
      "text/plain": [
       "<Figure size 432x288 with 1 Axes>"
      ]
     },
     "metadata": {
      "needs_background": "light"
     },
     "output_type": "display_data"
    }
   ],
   "source": [
    "%matplotlib inline\n",
    "plt.xlabel('area(sqr ft)')\n",
    "plt.ylabel(\"price(US$)\")\n",
    "plt.scatter(df['area'], df['price'], color=\"red\", marker='+')"
   ]
  },
  {
   "cell_type": "code",
   "execution_count": 177,
   "id": "47c4626e",
   "metadata": {},
   "outputs": [
    {
     "data": {
      "text/plain": [
       "LinearRegression()"
      ]
     },
     "execution_count": 177,
     "metadata": {},
     "output_type": "execute_result"
    }
   ],
   "source": [
    "reg = linear_model.LinearRegression()\n",
    "reg.fit(X_train, y_train)"
   ]
  },
  {
   "cell_type": "code",
   "execution_count": 178,
   "id": "37e79e0c",
   "metadata": {},
   "outputs": [],
   "source": [
    "from sklearn.metrics import mean_absolute_error as mae\n",
    "from sklearn.metrics import mean_absolute_percentage_error as mape"
   ]
  },
  {
   "cell_type": "code",
   "execution_count": 179,
   "id": "e38cb6bb",
   "metadata": {},
   "outputs": [
    {
     "name": "stdout",
     "output_type": "stream",
     "text": [
      "13595.655966503817\n",
      "1.919545541325159\n"
     ]
    }
   ],
   "source": [
    "predicted_price = reg.predict(x_test)\n",
    "actual_price = y_test\n",
    "print(mae(actual_price, predicted_price))\n",
    "print(mape(actual_price, predicted_price)*100)"
   ]
  },
  {
   "cell_type": "code",
   "execution_count": 181,
   "id": "49891079",
   "metadata": {},
   "outputs": [
    {
     "data": {
      "text/plain": [
       "array([1695069.01605024])"
      ]
     },
     "execution_count": 181,
     "metadata": {},
     "output_type": "execute_result"
    }
   ],
   "source": [
    "reg.predict([[12000]])"
   ]
  },
  {
   "cell_type": "code",
   "execution_count": 188,
   "id": "e59db73b",
   "metadata": {},
   "outputs": [],
   "source": [
    "b = reg.intercept_"
   ]
  },
  {
   "cell_type": "code",
   "execution_count": 190,
   "id": "0d6a61ef",
   "metadata": {},
   "outputs": [],
   "source": [
    "m = reg.coef_[0]"
   ]
  },
  {
   "cell_type": "code",
   "execution_count": 196,
   "id": "0d173274",
   "metadata": {},
   "outputs": [],
   "source": [
    "x = 59000"
   ]
  },
  {
   "cell_type": "code",
   "execution_count": 197,
   "id": "15056ea2",
   "metadata": {},
   "outputs": [
    {
     "data": {
      "text/plain": [
       "7429282.205163992"
      ]
     },
     "execution_count": 197,
     "metadata": {},
     "output_type": "execute_result"
    }
   ],
   "source": [
    "m*x+b"
   ]
  },
  {
   "cell_type": "code",
   "execution_count": 199,
   "id": "605d13ba",
   "metadata": {},
   "outputs": [
    {
     "data": {
      "text/plain": [
       "[<matplotlib.lines.Line2D at 0x168869fe490>]"
      ]
     },
     "execution_count": 199,
     "metadata": {},
     "output_type": "execute_result"
    },
    {
     "data": {
      "image/png": "[encoded data removed]",
      "text/plain": [
       "<Figure size 432x288 with 1 Axes>"
      ]
     },
     "metadata": {
      "needs_background": "light"
     },
     "output_type": "display_data"
    }
   ],
   "source": [
    "%matplotlib inline\n",
    "plt.xlabel('area(sqr ft)')\n",
    "plt.ylabel(\"price(US$)\")\n",
    "plt.scatter(df['area'], df['price'], color=\"red\", marker='+')\n",
    "plt.plot(df['area'], reg.predict(df[['area']]))"
   ]
  },
  {
   "cell_type": "code",
   "execution_count": null,
   "id": "2a29f8a9",
   "metadata": {},
   "outputs": [],
   "source": []
  }
 ],
 "metadata": {
  "kernelspec": {
   "display_name": "Python 3",
   "language": "python",
   "name": "python3"
  },
  "language_info": {
   "codemirror_mode": {
    "name": "ipython",
    "version": 3
   },
   "file_extension": ".py",
   "mimetype": "text/x-python",
   "name": "python",
   "nbconvert_exporter": "python",
   "pygments_lexer": "ipython3",
   "version": "3.8.8"
  },
  "varInspector": {
   "cols": {
    "lenName": 16,
    "lenType": 16,
    "lenVar": 40
   },
   "kernels_config": {
    "python": {
     "delete_cmd_postfix": "",
     "delete_cmd_prefix": "del ",
     "library": "var_list.py",
     "varRefreshCmd": "print(var_dic_list())"
    },
    "r": {
     "delete_cmd_postfix": ") ",
     "delete_cmd_prefix": "rm(",
     "library": "var_list.r",
     "varRefreshCmd": "cat(var_dic_list()) "
    }
   },
   "types_to_exclude": [
    "module",
    "function",
    "builtin_function_or_method",
    "instance",
    "_Feature"
   ],
   "window_display": false
  }
 },
 "nbformat": 4,
 "nbformat_minor": 5
}
