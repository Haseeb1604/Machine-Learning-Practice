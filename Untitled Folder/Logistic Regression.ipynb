{
 "cells": [
  {
   "cell_type": "code",
   "execution_count": 46,
   "id": "3da64649",
   "metadata": {},
   "outputs": [],
   "source": [
    "import numpy as np\n",
    "import pandas as pd\n",
    "import matplotlib.pyplot as plt\n",
    "from sklearn.datasets import load_breast_cancer as bcancer "
   ]
  },
  {
   "cell_type": "code",
   "execution_count": 68,
   "id": "0dd3c761",
   "metadata": {},
   "outputs": [],
   "source": [
    "X = bcancer().data\n",
    "Y = bcancer().target\n"
   ]
  },
  {
   "cell_type": "code",
   "execution_count": 92,
   "id": "b2cf9dd8",
   "metadata": {},
   "outputs": [],
   "source": [
    "col = bcancer().feature_names\n",
    "df = pd.DataFrame(X, columns=col)\n",
    "df['output'] = Y"
   ]
  },
  {
   "cell_type": "code",
   "execution_count": null,
   "id": "2fe48676",
   "metadata": {},
   "outputs": [],
   "source": []
  },
  {
   "cell_type": "code",
   "execution_count": null,
   "id": "1fd7b9cf",
   "metadata": {},
   "outputs": [],
   "source": []
  }
 ],
 "metadata": {
  "kernelspec": {
   "display_name": "Python 3",
   "language": "python",
   "name": "python3"
  },
  "language_info": {
   "codemirror_mode": {
    "name": "ipython",
    "version": 3
   },
   "file_extension": ".py",
   "mimetype": "text/x-python",
   "name": "python",
   "nbconvert_exporter": "python",
   "pygments_lexer": "ipython3",
   "version": "3.8.8"
  }
 },
 "nbformat": 4,
 "nbformat_minor": 5
}
